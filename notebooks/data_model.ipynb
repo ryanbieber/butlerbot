{
 "cells": [
  {
   "cell_type": "code",
   "execution_count": null,
   "metadata": {},
   "outputs": [],
   "source": [
    "from enum import Enum\n"
   ]
  },
  {
   "cell_type": "code",
   "execution_count": null,
   "metadata": {},
   "outputs": [],
   "source": [
    "class Created(Enum):\n",
    "    \"\"\"\n",
    "    Enum representing the created status of a resource.\n",
    "    \"\"\"\n",
    "    weather = \"weather\"\n",
    "    calendar = \"calendar\"\n",
    "    telegram = \"telegram\"\n",
    "    personal = \"personal\"\n",
    "    usps = \"usps\"\n",
    "    ups = \"ups\"\n",
    "    fedex = \"fedex\"\n",
    "    amazon = \"amazon\"\n",
    "\n",
    "\n",
    "class Tags(Enum):\n",
    "    \"\"\"\n",
    "    Enum representing the tags used for categorizing resources.\n",
    "    \"\"\"\n",
    "    weather = \"weather\"\n",
    "    calendar = \"calendar\"\n",
    "    telegram = \"telegram\"\n",
    "    personal = \"personal\"\n",
    "    mail = \"mail\""
   ]
  },
  {
   "cell_type": "code",
   "execution_count": null,
   "metadata": {},
   "outputs": [],
   "source": []
  }
 ],
 "metadata": {
  "kernelspec": {
   "display_name": ".venv",
   "language": "python",
   "name": "python3"
  },
  "language_info": {
   "name": "python",
   "version": "3.13.1"
  }
 },
 "nbformat": 4,
 "nbformat_minor": 2
}
