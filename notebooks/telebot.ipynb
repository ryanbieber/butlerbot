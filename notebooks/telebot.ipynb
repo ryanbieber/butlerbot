{
 "cells": [
  {
   "cell_type": "code",
   "execution_count": null,
   "metadata": {},
   "outputs": [],
   "source": [
    "#!/usr/bin/env python\n",
    "# pylint: disable=unused-argument\n",
    "# This program is dedicated to the public domain under the CC0 license.\n",
    "\n",
    "\"\"\"\n",
    "Simple Bot to reply to Telegram messages.\n",
    "\n",
    "First, a few handler functions are defined. Then, those functions are passed to\n",
    "the Application and registered at their respective places.\n",
    "Then, the bot is started and runs until we press Ctrl-C on the command line.\n",
    "\n",
    "Usage:\n",
    "Basic Echobot example, repeats messages.\n",
    "Press Ctrl-C on the command line or send a signal to the process to stop the\n",
    "bot.\n",
    "\"\"\"\n",
    "\n",
    "import logging\n",
    "\n",
    "from telegram import ForceReply, Update\n",
    "from telegram.ext import Application, CommandHandler, ContextTypes, MessageHandler, filters\n",
    "\n",
    "# Enable logging\n",
    "logging.basicConfig(\n",
    "    format=\"%(asctime)s - %(name)s - %(levelname)s - %(message)s\", level=logging.INFO\n",
    ")\n",
    "# set higher logging level for httpx to avoid all GET and POST requests being logged\n",
    "logging.getLogger(\"httpx\").setLevel(logging.WARNING)\n",
    "\n",
    "logger = logging.getLogger(__name__)\n",
    "\n",
    "\n",
    "# Define a few command handlers. These usually take the two arguments update and\n",
    "# context.\n",
    "async def start(update: Update, context: ContextTypes.DEFAULT_TYPE) -> None:\n",
    "    \"\"\"Send a message when the command /start is issued.\"\"\"\n",
    "    user = update.effective_user\n",
    "    await update.message.reply_html(\n",
    "        rf\"Hi {user.mention_html()}!\",\n",
    "        reply_markup=ForceReply(selective=True),\n",
    "    )\n",
    "\n",
    "\n",
    "async def help_command(update: Update, context: ContextTypes.DEFAULT_TYPE) -> None:\n",
    "    \"\"\"Send a message when the command /help is issued.\"\"\"\n",
    "    await update.message.reply_text(\"Help!\")\n",
    "\n",
    "\n",
    "async def echo(update: Update, context: ContextTypes.DEFAULT_TYPE) -> None:\n",
    "    \"\"\"Echo the user message.\"\"\"\n",
    "    await update.message.reply_text(update.message.text)\n",
    "\n",
    "\n",
    "def main() -> None:\n",
    "    \"\"\"Start the bot.\"\"\"\n",
    "    # Create the Application and pass it your bot's token.\n",
    "    application = Application.builder().token(\"7561599888:AAF0uFMJrNRovEZMJC_K09DPbUaQL7uWH5U\").build()\n",
    "\n",
    "    # on different commands - answer in Telegram\n",
    "    application.add_handler(CommandHandler(\"start\", start))\n",
    "    application.add_handler(CommandHandler(\"help\", help_command))\n",
    "\n",
    "    # on non command i.e message - echo the message on Telegram\n",
    "    application.add_handler(MessageHandler(filters.TEXT & ~filters.COMMAND, echo))\n",
    "\n",
    "    # Run the bot until the user presses Ctrl-C\n",
    "    application.run_polling(allowed_updates=Update.ALL_TYPES)\n",
    "\n",
    "\n",
    "if __name__ == \"__main__\":\n",
    "    main()"
   ]
  },
  {
   "cell_type": "code",
   "execution_count": 1,
   "metadata": {},
   "outputs": [
    {
     "data": {
      "text/plain": [
       "Note(id=1, created='calendar', tags='personal', content='Meeting with the tax man at 10 am.', created_at=datetime.date(2025, 4, 16), date=datetime.date(2025, 4, 17))"
      ]
     },
     "execution_count": 1,
     "metadata": {},
     "output_type": "execute_result"
    }
   ],
   "source": [
    "import os\n",
    "os.chdir(\"/home/carnufex/butlerbot\")\n",
    "from src.chains import category_chain\n",
    "\n",
    "note = category_chain.invoke({\n",
    "    \"input\": \"I have a meeting tomorrow at 10 am with the tax man\",\n",
    "    \n",
    "})\n",
    "note"
   ]
  },
  {
   "cell_type": "code",
   "execution_count": 2,
   "metadata": {},
   "outputs": [
    {
     "data": {
      "text/plain": [
       "'{\"id\":1,\"created\":\"calendar\",\"tags\":\"personal\",\"content\":\"Meeting with the tax man at 10 am.\",\"created_at\":\"2025-04-16\",\"date\":\"2025-04-17\"}'"
      ]
     },
     "execution_count": 2,
     "metadata": {},
     "output_type": "execute_result"
    }
   ],
   "source": [
    "## turn NOTE into a polars df with same columns as the one in the database\n",
    "import polars as pl\n",
    "note.model_dump_json()"
   ]
  },
  {
   "cell_type": "code",
   "execution_count": 3,
   "metadata": {},
   "outputs": [],
   "source": [
    "notes = pl.DataFrame(note.model_dump())"
   ]
  },
  {
   "cell_type": "code",
   "execution_count": 4,
   "metadata": {},
   "outputs": [],
   "source": [
    "notes.write_parquet(\"/home/carnufex/butlerbot/data/notes.parquet\", compression=\"lz4\")"
   ]
  },
  {
   "cell_type": "code",
   "execution_count": 5,
   "metadata": {},
   "outputs": [
    {
     "data": {
      "text/html": [
       "<div><style>\n",
       ".dataframe > thead > tr,\n",
       ".dataframe > tbody > tr {\n",
       "  text-align: right;\n",
       "  white-space: pre-wrap;\n",
       "}\n",
       "</style>\n",
       "<small>shape: (1, 6)</small><table border=\"1\" class=\"dataframe\"><thead><tr><th>id</th><th>created</th><th>tags</th><th>content</th><th>created_at</th><th>date</th></tr><tr><td>i64</td><td>str</td><td>str</td><td>str</td><td>date</td><td>date</td></tr></thead><tbody><tr><td>1</td><td>&quot;calendar&quot;</td><td>&quot;personal&quot;</td><td>&quot;Meeting with the tax man at 10…</td><td>2025-04-16</td><td>2025-04-17</td></tr></tbody></table></div>"
      ],
      "text/plain": [
       "shape: (1, 6)\n",
       "┌─────┬──────────┬──────────┬─────────────────────────────────┬────────────┬────────────┐\n",
       "│ id  ┆ created  ┆ tags     ┆ content                         ┆ created_at ┆ date       │\n",
       "│ --- ┆ ---      ┆ ---      ┆ ---                             ┆ ---        ┆ ---        │\n",
       "│ i64 ┆ str      ┆ str      ┆ str                             ┆ date       ┆ date       │\n",
       "╞═════╪══════════╪══════════╪═════════════════════════════════╪════════════╪════════════╡\n",
       "│ 1   ┆ calendar ┆ personal ┆ Meeting with the tax man at 10… ┆ 2025-04-16 ┆ 2025-04-17 │\n",
       "└─────┴──────────┴──────────┴─────────────────────────────────┴────────────┴────────────┘"
      ]
     },
     "execution_count": 5,
     "metadata": {},
     "output_type": "execute_result"
    }
   ],
   "source": [
    "notes"
   ]
  },
  {
   "cell_type": "code",
   "execution_count": null,
   "metadata": {},
   "outputs": [],
   "source": []
  }
 ],
 "metadata": {
  "kernelspec": {
   "display_name": ".venv",
   "language": "python",
   "name": "python3"
  },
  "language_info": {
   "codemirror_mode": {
    "name": "ipython",
    "version": 3
   },
   "file_extension": ".py",
   "mimetype": "text/x-python",
   "name": "python",
   "nbconvert_exporter": "python",
   "pygments_lexer": "ipython3",
   "version": "3.13.1"
  }
 },
 "nbformat": 4,
 "nbformat_minor": 2
}
